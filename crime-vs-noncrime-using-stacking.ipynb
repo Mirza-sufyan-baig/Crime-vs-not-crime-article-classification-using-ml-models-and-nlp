{
 "cells": [
  {
   "cell_type": "code",
   "execution_count": null,
   "id": "4a616d85",
   "metadata": {},
   "outputs": [],
   "source": [
    "import numpy as np\n",
    "import pandas as pd\n",
    "import matplotlib.pyplot as plt\n"
   ]
  },
  {
   "cell_type": "code",
   "execution_count": null,
   "id": "a43e0616",
   "metadata": {},
   "outputs": [],
   "source": [
    "from sklearn.model_selection import GridSearchCV, train_test_split,StratifiedKFold\n",
    "from sklearn.ensemble import StackingClassifier\n",
    "from sklearn.linear_model import LogisticRegression\n",
    "from sklearn.naive_bayes import ComplementNB\n",
    "from sklearn.tree import DecisionTreeClassifier\n",
    "from sklearn.feature_extraction.text import TfidfVectorizer\n",
    "from sklearn.metrics import classification_report, accuracy_score\n",
    "from sklearn.pipeline import Pipeline"
   ]
  },
  {
   "cell_type": "code",
   "execution_count": null,
   "id": "b79ceef5",
   "metadata": {},
   "outputs": [],
   "source": [
    "df = pd.read_csv('CrimeVsNoCrimeArticles.csv')\n",
    "df.head()"
   ]
  },
  {
   "cell_type": "code",
   "execution_count": null,
   "id": "58e33e58",
   "metadata": {},
   "outputs": [],
   "source": [
    "df = df.dropna(subset = ['title'])\n",
    "\n",
    "x = df['title']\n",
    "y = df['is_crime_report']\n",
    "\n",
    "x_train,x_test,y_train,y_test = train_test_split(x,y, test_size = .2, random_state = 42)\n",
    "\n",
    "print(f'the length of training data is{len(x_train)}')\n",
    "print(f'the length of testing data is {len(x_test)}')"
   ]
  },
  {
   "cell_type": "code",
   "execution_count": null,
   "id": "d8c302b7",
   "metadata": {},
   "outputs": [],
   "source": [
    "best_estimators = [\n",
    "    (\"nb\", ComplementNB()),\n",
    "    (\"dt\", DecisionTreeClassifier()),\n",
    "]\n",
    "final_estimator = LogisticRegression()"
   ]
  },
  {
   "cell_type": "code",
   "execution_count": null,
   "id": "b476f6ed",
   "metadata": {},
   "outputs": [],
   "source": [
    "model = StackingClassifier(\n",
    "    estimators = 'best_estimators',\n",
    "    final_estimator= 'final_estimator',\n",
    "    cv = 5,\n",
    "    n_jobs =1,\n",
    "    passthrough= True\n",
    ")\n",
    "param_grid = {\n",
    "    'Vectorizer__max_features' :[5000,8000],\n",
    "    'Vectorizer__ngram_range' : [(1,1),(1,2)],\n",
    "    'Vectorizer__subliner_tf' : [True,False]\n",
    "    \n",
    "}\n",
    "\n",
    "vectorizer = TfidfVectorizer(stop_words = 'english')\n",
    "\n",
    "pipeline = Pipeline([\n",
    "    ('vectorizer', vectorizer), \n",
    "    ('model', model)\n",
    "])\n",
    "cv = StratifiedKFold(n_splits  = 5, shuffle = True, random_state = 42)\n",
    "\n",
    "grid_search = GridSearchCV(pipeline, param_grid, cv = cv, verbose = 1, n_jobs = 1)\n",
    "grid_search.fit(x_train, y_train)\n",
    "\n",
    "print(f'best parameters found{grid_search.best_params_}')\n",
    "print(f'best score {grid_search.best_score_}')\n"
   ]
  },
  {
   "cell_type": "code",
   "execution_count": null,
   "id": "44a17484",
   "metadata": {},
   "outputs": [],
   "source": [
    "y_pred = grid_search.pred(x_test)\n",
    "\n",
    "accuracy = accuracy_score(y_test,y_pred)\n",
    "print(f'Improved accuracy with hyperparameter tuning: {accuracy*100:.2f}%')\n",
    "\n",
    "print('classification_report')\n",
    "print(classification_report(y_test,y_pred))"
   ]
  },
  {
   "cell_type": "code",
   "execution_count": null,
   "id": "f7ad57b6",
   "metadata": {},
   "outputs": [],
   "source": [
    "import pickle\n",
    "\n",
    "with open('stacking_model.pkl', 'wb') as f:\n",
    "    pickle.dump(grid_search, f)"
   ]
  },
  {
   "cell_type": "code",
   "execution_count": null,
   "id": "57a7ff5b",
   "metadata": {},
   "outputs": [],
   "source": []
  }
 ],
 "metadata": {
  "kernelspec": {
   "display_name": "base",
   "language": "python",
   "name": "python3"
  },
  "language_info": {
   "codemirror_mode": {
    "name": "ipython",
    "version": 3
   },
   "file_extension": ".py",
   "mimetype": "text/x-python",
   "name": "python",
   "nbconvert_exporter": "python",
   "pygments_lexer": "ipython3",
   "version": "3.12.7"
  }
 },
 "nbformat": 4,
 "nbformat_minor": 5
}
