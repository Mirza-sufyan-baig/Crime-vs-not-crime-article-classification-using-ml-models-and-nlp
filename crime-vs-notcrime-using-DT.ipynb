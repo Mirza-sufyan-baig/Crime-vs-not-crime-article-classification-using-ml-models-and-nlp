{
 "cells": [
  {
   "cell_type": "code",
   "execution_count": null,
   "id": "9c37e9f5",
   "metadata": {},
   "outputs": [],
   "source": [
    "import numpy as np\n",
    "import pandas as pd\n",
    "import matplotlib.pyplot as plt"
   ]
  },
  {
   "cell_type": "code",
   "execution_count": null,
   "id": "0ee9cd51",
   "metadata": {},
   "outputs": [],
   "source": [
    "from sklearn.model_selection import GridSearchCV, train_test_split, StratifiedKFold\n",
    "from sklearn.tree import DecisionTreeClassifier\n",
    "from sklearn.feature_extraction.text import TfidfVectorizer\n",
    "from sklearn.pipeline import Pipeline\n",
    "from sklearn.metrics import accuracy_score, classification_report\n"
   ]
  },
  {
   "cell_type": "code",
   "execution_count": null,
   "id": "8b55d2c0",
   "metadata": {},
   "outputs": [],
   "source": [
    "df = pd.read_csv('CrimeVsNoCrimeArticles.csv')\n",
    "df.head()"
   ]
  },
  {
   "cell_type": "code",
   "execution_count": null,
   "id": "10b96512",
   "metadata": {},
   "outputs": [],
   "source": [
    "df = df.dropna(subset = ['title'])\n",
    "x = df['title']\n",
    "y = df['is_crime_report']\n",
    "x_train, x_test, y_train, y_test = train_test_split(x,y, test_size = .2, random_state = 42)\n",
    "\n",
    "train_data = print(f'training data size: {len(x_train)}')\n",
    "testing_data = print(f'test data size: {len(x_test)}')"
   ]
  },
  {
   "cell_type": "code",
   "execution_count": null,
   "id": "cb9f9927",
   "metadata": {},
   "outputs": [],
   "source": [
    "model = DecisionTreeClassifier()\n",
    "param_grid  = {\n",
    "    'vectorizer__max_features': [5000, 8000, 10000],\n",
    "    'vectorizer__ngram_range': [(1, 1), (1, 2)],\n",
    "    'vectorizer__sublinear_tf': [True, False],\n",
    "\n",
    "    'model__max_depth': [10, 20, None],\n",
    "    'model__min_samples_split': [2, 5, 10],\n",
    "    'model__criterion': ['gini', 'entropy'], \n",
    "}\n",
    "vectorizer = TfidfVectorizer(stop_words = 'english')\n",
    "pipeline = Pipeline([\n",
    "    ('vectorizer', vectorizer),\n",
    "    ('model', model)\n",
    "])\n",
    "cv = StratifiedKFold(n_splits = 5,  shuffle = True ,random_state = 42)\n",
    "grid_search = GridSearchCV(pipeline, param_grid , cv = cv, verbose = 1, n_jobs = 1)\n",
    "\n",
    "grid_search.fit(x_train, y_train)\n",
    "print(\"Best parameters found: \", grid_search.best_params_)\n",
    "print(\"Best score: \", grid_search.best_score_)"
   ]
  },
  {
   "cell_type": "code",
   "execution_count": null,
   "id": "7653fe9d",
   "metadata": {},
   "outputs": [],
   "source": [
    "y_pred = grid_search.predict(x_test)\n",
    "accuracy = accuracy_score(y_test,y_pred)\n",
    "\n",
    "print(f'improved accuracy with hyperparameter tuning{accuracy *100:.2f}%')\n",
    "print('classification_report:')\n",
    "print(classification_report(y_test,y_pred))"
   ]
  },
  {
   "cell_type": "code",
   "execution_count": 11,
   "id": "16f91179",
   "metadata": {},
   "outputs": [],
   "source": [
    "import pickle\n",
    "with open('decision_tree.pkl', 'wb') as f:\n",
    "    pickle.dump(grid_search, f)"
   ]
  },
  {
   "cell_type": "code",
   "execution_count": null,
   "id": "91010849",
   "metadata": {},
   "outputs": [],
   "source": []
  }
 ],
 "metadata": {
  "kernelspec": {
   "display_name": "base",
   "language": "python",
   "name": "python3"
  },
  "language_info": {
   "codemirror_mode": {
    "name": "ipython",
    "version": 3
   },
   "file_extension": ".py",
   "mimetype": "text/x-python",
   "name": "python",
   "nbconvert_exporter": "python",
   "pygments_lexer": "ipython3",
   "version": "3.12.7"
  }
 },
 "nbformat": 4,
 "nbformat_minor": 5
}
